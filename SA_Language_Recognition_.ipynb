{
  "cells": [
    {
      "cell_type": "markdown",
      "id": "23a13a04",
      "metadata": {
        "id": "23a13a04"
      },
      "source": [
        "# South African Language Identification\n",
        "\n",
        "© Explore Data Science Academy Hackathon 2022\n",
        "\n",
        "---"
      ]
    },
    {
      "cell_type": "markdown",
      "id": "692b3e31",
      "metadata": {
        "id": "692b3e31"
      },
      "source": [
        "## 1.0 Overview\n",
        "\n",
        "<img src=\"images/banner.jpg\"/>\n",
        "\n",
        "South Africa is a multicultural society that is characterised by its rich linguistic diversity. Language is an indispensable tool that can be used to deepen democracy and also contribute to the social, cultural, intellectual, economic and political life of the South African society.\n",
        "\n",
        "The country is multilingual with 11 official languages, each of which is guaranteed equal status. Most South Africans are multilingual and able to speak at least two or more of the official languages. With such a multilingual population, it is only obvious that our systems and devices also communicate in multi-languages.\n",
        "\n",
        "In this challenge, you will take text which is in any of South Africa's 11 Official languages and identify which language the text is in. This is an example of NLP's Language Identification, the task of determining the natural language that a piece of text is written in.\n",
        "\n",
        "---"
      ]
    },
    {
      "cell_type": "markdown",
      "id": "a8c6cfa8",
      "metadata": {
        "id": "a8c6cfa8"
      },
      "source": [
        "## 2.0 Importing Packages"
      ]
    },
    {
      "cell_type": "code",
      "execution_count": null,
      "id": "1c1cc31a",
      "metadata": {
        "id": "1c1cc31a"
      },
      "outputs": [],
      "source": [
        "# data loading and manipulation packages\n",
        "import pandas as pd\n",
        "from nltk import tokenize\n",
        "import string\n",
        "import re\n",
        "from sklearn.model_selection import train_test_split\n",
        "from sklearn.feature_extraction.text import TfidfVectorizer\n",
        "\n",
        "# data Visualisation Packages\n",
        "import seaborn as sns\n",
        "import matplotlib.pyplot as plt\n",
        "\n",
        "# data modeling and evaluation packages\n",
        "from sklearn.linear_model import LogisticRegression\n",
        "from sklearn.linear_model import RidgeClassifier\n",
        "from sklearn import pipeline\n",
        "from sklearn.metrics import classification_report\n",
        "from sklearn.neighbors import KNeighborsClassifier\n",
        "from sklearn.linear_model import SGDClassifier\n",
        "from sklearn.naive_bayes import MultinomialNB"
      ]
    },
    {
      "cell_type": "markdown",
      "id": "15c0c550",
      "metadata": {
        "id": "15c0c550"
      },
      "source": [
        "For this project, three distinct packages were used; Pandas - for reading and manipulating the datasets, nltk - for natural language processing and sklearn for modeling and evaluation. <br ><br >"
      ]
    },
    {
      "cell_type": "markdown",
      "id": "c226651b",
      "metadata": {
        "id": "c226651b"
      },
      "source": [
        "## 2.0 Loading Datasets"
      ]
    },
    {
      "cell_type": "code",
      "execution_count": null,
      "id": "f416a15d",
      "metadata": {
        "id": "f416a15d"
      },
      "outputs": [],
      "source": [
        "# read the training dataset\n",
        "df_train = pd.read_csv('data/train_set.csv')\n",
        "\n",
        "# read the testing dataset\n",
        "df_test = pd.read_csv('data/test_set.csv')"
      ]
    },
    {
      "cell_type": "markdown",
      "id": "a131d0ed",
      "metadata": {
        "id": "a131d0ed"
      },
      "source": [
        "The datasets for this project is included in the data subfolder of this notebook. <br><br>"
      ]
    },
    {
      "cell_type": "markdown",
      "id": "1669f454",
      "metadata": {
        "id": "1669f454"
      },
      "source": [
        "## 3.0 Exploratory Data Analysis"
      ]
    },
    {
      "cell_type": "markdown",
      "id": "2ccd197d",
      "metadata": {
        "id": "2ccd197d"
      },
      "source": [
        "Exploratory data analysis is an approach to analyzing data sets to summarize their main characteristics, often with visual methods. Primarily, EDA is for seeing what the data can tell us beyond the formal modeling or hypothesis testing task.This approach for data analysis uses many tools(mainly graphical to maximize insight into a data set, extract important variables, detect outliers and anomalies, amongst other details that is missed when looking at DataFrame. This step is very important especially when we model the data in order to apply Machine Learning techniques."
      ]
    },
    {
      "cell_type": "markdown",
      "id": "c2c005bc",
      "metadata": {
        "id": "c2c005bc"
      },
      "source": [
        "### 3.1 Overview of the Training Dataset"
      ]
    },
    {
      "cell_type": "code",
      "execution_count": null,
      "id": "68840b47",
      "metadata": {
        "id": "68840b47",
        "outputId": "2d0a54d3-f284-4a3c-c5cb-dd67cac8afd0",
        "colab": {
          "base_uri": "https://localhost:8080/",
          "height": 206
        }
      },
      "outputs": [
        {
          "output_type": "execute_result",
          "data": {
            "text/plain": [
              "  lang_id                                               text\n",
              "0     xho  umgaqo-siseko wenza amalungiselelo kumaziko ax...\n",
              "1     xho  i-dha iya kuba nobulumko bokubeka umsebenzi na...\n",
              "2     eng  the province of kwazulu-natal department of tr...\n",
              "3     nso  o netefatša gore o ba file dilo ka moka tše le...\n",
              "4     ven  khomishini ya ndinganyiso ya mbeu yo ewa maana..."
            ],
            "text/html": [
              "\n",
              "  <div id=\"df-9f42ea55-abb3-4694-ac32-02a30b6dac36\">\n",
              "    <div class=\"colab-df-container\">\n",
              "      <div>\n",
              "<style scoped>\n",
              "    .dataframe tbody tr th:only-of-type {\n",
              "        vertical-align: middle;\n",
              "    }\n",
              "\n",
              "    .dataframe tbody tr th {\n",
              "        vertical-align: top;\n",
              "    }\n",
              "\n",
              "    .dataframe thead th {\n",
              "        text-align: right;\n",
              "    }\n",
              "</style>\n",
              "<table border=\"1\" class=\"dataframe\">\n",
              "  <thead>\n",
              "    <tr style=\"text-align: right;\">\n",
              "      <th></th>\n",
              "      <th>lang_id</th>\n",
              "      <th>text</th>\n",
              "    </tr>\n",
              "  </thead>\n",
              "  <tbody>\n",
              "    <tr>\n",
              "      <th>0</th>\n",
              "      <td>xho</td>\n",
              "      <td>umgaqo-siseko wenza amalungiselelo kumaziko ax...</td>\n",
              "    </tr>\n",
              "    <tr>\n",
              "      <th>1</th>\n",
              "      <td>xho</td>\n",
              "      <td>i-dha iya kuba nobulumko bokubeka umsebenzi na...</td>\n",
              "    </tr>\n",
              "    <tr>\n",
              "      <th>2</th>\n",
              "      <td>eng</td>\n",
              "      <td>the province of kwazulu-natal department of tr...</td>\n",
              "    </tr>\n",
              "    <tr>\n",
              "      <th>3</th>\n",
              "      <td>nso</td>\n",
              "      <td>o netefatša gore o ba file dilo ka moka tše le...</td>\n",
              "    </tr>\n",
              "    <tr>\n",
              "      <th>4</th>\n",
              "      <td>ven</td>\n",
              "      <td>khomishini ya ndinganyiso ya mbeu yo ewa maana...</td>\n",
              "    </tr>\n",
              "  </tbody>\n",
              "</table>\n",
              "</div>\n",
              "      <button class=\"colab-df-convert\" onclick=\"convertToInteractive('df-9f42ea55-abb3-4694-ac32-02a30b6dac36')\"\n",
              "              title=\"Convert this dataframe to an interactive table.\"\n",
              "              style=\"display:none;\">\n",
              "        \n",
              "  <svg xmlns=\"http://www.w3.org/2000/svg\" height=\"24px\"viewBox=\"0 0 24 24\"\n",
              "       width=\"24px\">\n",
              "    <path d=\"M0 0h24v24H0V0z\" fill=\"none\"/>\n",
              "    <path d=\"M18.56 5.44l.94 2.06.94-2.06 2.06-.94-2.06-.94-.94-2.06-.94 2.06-2.06.94zm-11 1L8.5 8.5l.94-2.06 2.06-.94-2.06-.94L8.5 2.5l-.94 2.06-2.06.94zm10 10l.94 2.06.94-2.06 2.06-.94-2.06-.94-.94-2.06-.94 2.06-2.06.94z\"/><path d=\"M17.41 7.96l-1.37-1.37c-.4-.4-.92-.59-1.43-.59-.52 0-1.04.2-1.43.59L10.3 9.45l-7.72 7.72c-.78.78-.78 2.05 0 2.83L4 21.41c.39.39.9.59 1.41.59.51 0 1.02-.2 1.41-.59l7.78-7.78 2.81-2.81c.8-.78.8-2.07 0-2.86zM5.41 20L4 18.59l7.72-7.72 1.47 1.35L5.41 20z\"/>\n",
              "  </svg>\n",
              "      </button>\n",
              "      \n",
              "  <style>\n",
              "    .colab-df-container {\n",
              "      display:flex;\n",
              "      flex-wrap:wrap;\n",
              "      gap: 12px;\n",
              "    }\n",
              "\n",
              "    .colab-df-convert {\n",
              "      background-color: #E8F0FE;\n",
              "      border: none;\n",
              "      border-radius: 50%;\n",
              "      cursor: pointer;\n",
              "      display: none;\n",
              "      fill: #1967D2;\n",
              "      height: 32px;\n",
              "      padding: 0 0 0 0;\n",
              "      width: 32px;\n",
              "    }\n",
              "\n",
              "    .colab-df-convert:hover {\n",
              "      background-color: #E2EBFA;\n",
              "      box-shadow: 0px 1px 2px rgba(60, 64, 67, 0.3), 0px 1px 3px 1px rgba(60, 64, 67, 0.15);\n",
              "      fill: #174EA6;\n",
              "    }\n",
              "\n",
              "    [theme=dark] .colab-df-convert {\n",
              "      background-color: #3B4455;\n",
              "      fill: #D2E3FC;\n",
              "    }\n",
              "\n",
              "    [theme=dark] .colab-df-convert:hover {\n",
              "      background-color: #434B5C;\n",
              "      box-shadow: 0px 1px 3px 1px rgba(0, 0, 0, 0.15);\n",
              "      filter: drop-shadow(0px 1px 2px rgba(0, 0, 0, 0.3));\n",
              "      fill: #FFFFFF;\n",
              "    }\n",
              "  </style>\n",
              "\n",
              "      <script>\n",
              "        const buttonEl =\n",
              "          document.querySelector('#df-9f42ea55-abb3-4694-ac32-02a30b6dac36 button.colab-df-convert');\n",
              "        buttonEl.style.display =\n",
              "          google.colab.kernel.accessAllowed ? 'block' : 'none';\n",
              "\n",
              "        async function convertToInteractive(key) {\n",
              "          const element = document.querySelector('#df-9f42ea55-abb3-4694-ac32-02a30b6dac36');\n",
              "          const dataTable =\n",
              "            await google.colab.kernel.invokeFunction('convertToInteractive',\n",
              "                                                     [key], {});\n",
              "          if (!dataTable) return;\n",
              "\n",
              "          const docLinkHtml = 'Like what you see? Visit the ' +\n",
              "            '<a target=\"_blank\" href=https://colab.research.google.com/notebooks/data_table.ipynb>data table notebook</a>'\n",
              "            + ' to learn more about interactive tables.';\n",
              "          element.innerHTML = '';\n",
              "          dataTable['output_type'] = 'display_data';\n",
              "          await google.colab.output.renderOutput(dataTable, element);\n",
              "          const docLink = document.createElement('div');\n",
              "          docLink.innerHTML = docLinkHtml;\n",
              "          element.appendChild(docLink);\n",
              "        }\n",
              "      </script>\n",
              "    </div>\n",
              "  </div>\n",
              "  "
            ]
          },
          "metadata": {},
          "execution_count": 4
        }
      ],
      "source": [
        "df_train.head()"
      ]
    },
    {
      "cell_type": "markdown",
      "id": "d38fdf93",
      "metadata": {
        "id": "d38fdf93"
      },
      "source": [
        "A quick snapshot of the dataset indicates that the dataset contains a single predictor; text with a target variable; lang_id. From the above snapshot, it is not obvious the cleanliness status of the dataset. <br ><br >"
      ]
    },
    {
      "cell_type": "code",
      "execution_count": null,
      "id": "46560a2b",
      "metadata": {
        "id": "46560a2b",
        "outputId": "975b6917-12bc-40c8-8384-ce0eb2627fdf",
        "colab": {
          "base_uri": "https://localhost:8080/"
        }
      },
      "outputs": [
        {
          "output_type": "stream",
          "name": "stdout",
          "text": [
            "<class 'pandas.core.frame.DataFrame'>\n",
            "RangeIndex: 20761 entries, 0 to 20760\n",
            "Data columns (total 2 columns):\n",
            " #   Column   Non-Null Count  Dtype \n",
            "---  ------   --------------  ----- \n",
            " 0   lang_id  20761 non-null  object\n",
            " 1   text     20761 non-null  object\n",
            "dtypes: object(2)\n",
            "memory usage: 324.5+ KB\n"
          ]
        }
      ],
      "source": [
        "df_train.info()"
      ]
    },
    {
      "cell_type": "markdown",
      "id": "18a38bc4",
      "metadata": {
        "id": "18a38bc4"
      },
      "source": [
        "The dataset is free of nulls. The shape of the dataset can also be deduced to be (33000 x 2). No cleanings required in terms of missing values. <br><br>"
      ]
    },
    {
      "cell_type": "markdown",
      "id": "def57887",
      "metadata": {
        "id": "def57887"
      },
      "source": [
        "**Summary of Observations:**\n",
        "* The train dataset has 33000 rows\n",
        "* The train dataset contains two features\n",
        "* both features are categorical - 'text' and 'lang_id'\n",
        "* No special characters were immediately visible execpt '-' used in joining multi-words "
      ]
    },
    {
      "cell_type": "markdown",
      "id": "e39bbb43",
      "metadata": {
        "id": "e39bbb43"
      },
      "source": [
        "### 3.2 Analysis of the Target Feature"
      ]
    },
    {
      "cell_type": "markdown",
      "id": "d198ec45",
      "metadata": {
        "id": "d198ec45"
      },
      "source": [
        "#### 3.2.1 Language Distribution"
      ]
    },
    {
      "cell_type": "code",
      "execution_count": null,
      "id": "99cb0372",
      "metadata": {
        "id": "99cb0372",
        "outputId": "1abcb673-0952-44a0-9516-fb20346bd5dd",
        "colab": {
          "base_uri": "https://localhost:8080/",
          "height": 390
        }
      },
      "outputs": [
        {
          "output_type": "display_data",
          "data": {
            "text/plain": [
              "<Figure size 576x432 with 1 Axes>"
            ],
            "image/png": "[encoded data removed]"
          },
          "metadata": {
            "needs_background": "light"
          }
        }
      ],
      "source": [
        "# Count occurence of each class in training dataset\n",
        "category_counts = df_train['lang_id'].value_counts()\n",
        "category_counts\n",
        "\n",
        "'''\n",
        "    Calculate the number of texts per language \n",
        "    and plot the class distributions results\n",
        "'''\n",
        "\n",
        "fig, ax = plt.subplots(figsize = (8, 6))\n",
        "target =df_train['lang_id'].value_counts()\n",
        "sns.barplot(x=target.index, y=target, ax=ax, palette=\"Blues_d\")\n",
        "plt.title('Language Distributions')\n",
        "plt.ylabel(\"Count\")\n",
        "plt.show()"
      ]
    },
    {
      "cell_type": "markdown",
      "id": "99d3b2a1",
      "metadata": {
        "id": "99d3b2a1"
      },
      "source": [
        "The training dataset has balanced classes. The implication of using this training dataset will be the creation of a model whose identification of each language is unbiased. For an instance, every language have equal chances of being identified<br><br>"
      ]
    },
    {
      "cell_type": "markdown",
      "id": "f4579996",
      "metadata": {
        "id": "f4579996"
      },
      "source": [
        "#### 3.3 Analysis  of the Message feature"
      ]
    },
    {
      "cell_type": "markdown",
      "id": "b545611a",
      "metadata": {
        "id": "b545611a"
      },
      "source": [
        "##### 3.3.1 Distinct Words"
      ]
    },
    {
      "cell_type": "markdown",
      "source": [
        "In this section, the size of the train dataset in terms of total numbers of words and total number of non-reeating words is inspected. This is to ensure that the words in the dataset are repeated enough to be useful and are unique enough for each language to enable their identification."
      ],
      "metadata": {
        "id": "lVkJZllSpEUo"
      },
      "id": "lVkJZllSpEUo"
    },
    {
      "cell_type": "code",
      "execution_count": null,
      "id": "50c64e1c",
      "metadata": {
        "id": "50c64e1c"
      },
      "outputs": [],
      "source": [
        " def create_bank_set(dataset, word=\"\", category=\"\"):\n",
        "    '''\n",
        "        Creates a list of all the words or characters in the text feature\n",
        "        \n",
        "        Input:\n",
        "            dataset - The dataset to extract words or characters from\n",
        "            category - Filters the dataset by the specified category\n",
        "            type - Specifies the level of extraction; wether characters or words\n",
        "        \n",
        "        Output:\n",
        "            pandas DataFrame of all the characters or words of the specified category \n",
        "    '''\n",
        "    corpus = []\n",
        "    if category:\n",
        "        df = dataset[dataset['lang_id'] == category]['text']\n",
        "    else:\n",
        "        df = dataset['text']\n",
        "    \n",
        "    if word:\n",
        "        bank = []\n",
        "        for row in df:\n",
        "            bank.extend(row.split(\" \"))\n",
        "    else:\n",
        "        bank = [row[x] for row in df for x in range(len(row))]\n",
        "        \n",
        "    return pd.DataFrame(bank)"
      ]
    },
    {
      "cell_type": "markdown",
      "id": "c44740ee",
      "metadata": {
        "id": "c44740ee"
      },
      "source": [
        "<br />\n",
        "Using the create_bank_set function to create a word bank for the entire train dataset"
      ]
    },
    {
      "cell_type": "code",
      "execution_count": null,
      "id": "55e2711f",
      "metadata": {
        "id": "55e2711f",
        "outputId": "4caf3465-9c13-48f8-b147-97af080177f9",
        "colab": {
          "base_uri": "https://localhost:8080/"
        }
      },
      "outputs": [
        {
          "output_type": "stream",
          "name": "stdout",
          "text": [
            "Total words: 771189 \n",
            "Distinct words: 111655\n",
            "A word is repeated an average of: 6.906891764811249 times\n"
          ]
        }
      ],
      "source": [
        "words = create_bank_set(df_train, word=True)\n",
        "total_words = len(words[0])\n",
        "count_unique = len(words[0].unique())\n",
        "print(\"Total words: {} \\nDistinct words: {}\".format(total_words, count_unique))\n",
        "print(\"A word is repeated an average of: {} times\".format(total_words / count_unique))"
      ]
    },
    {
      "cell_type": "markdown",
      "id": "9e6981ea",
      "metadata": {
        "id": "9e6981ea"
      },
      "source": [
        "#### 3.4 Words Common to more than One Language\n",
        "\n",
        "Some languages share words spelt similarly with words in other languages. Although, such words might not have same meaning in both languages. Do south African languages have such characteristics?"
      ]
    },
    {
      "cell_type": "code",
      "execution_count": null,
      "id": "d2976622",
      "metadata": {
        "id": "d2976622"
      },
      "outputs": [],
      "source": [
        "languages = df_train['lang_id'].unique()\n",
        "dict_index = []\n",
        "dict_value = []\n",
        "for language in languages:\n",
        "    lang_words = set(create_bank_set(df_train, word=\"True\", category=language)[0])\n",
        "    all_words = set(create_bank_set(df_train[df_train['lang_id'] != language], word=\"True\")[0])\n",
        "    dict_index.append(language)\n",
        "    dict_value.append(len(lang_words.intersection(all_words)))\n",
        "    \n",
        "common = pd.DataFrame(dict_value, index=dict_index)"
      ]
    },
    {
      "cell_type": "code",
      "execution_count": null,
      "id": "a94a4b54",
      "metadata": {
        "id": "a94a4b54",
        "outputId": "77949a3a-a3d4-4844-c54d-75cf1cc324c4",
        "colab": {
          "base_uri": "https://localhost:8080/",
          "height": 390
        }
      },
      "outputs": [
        {
          "output_type": "display_data",
          "data": {
            "text/plain": [
              "<Figure size 576x432 with 1 Axes>"
            ],
            "image/png": "[encoded data removed]"
          },
          "metadata": {
            "needs_background": "light"
          }
        }
      ],
      "source": [
        "\n",
        "fig, ax = plt.subplots(figsize = (8, 6))\n",
        "sns.barplot(x=common.index, y=common[0], ax=ax, palette=\"Blues_d\")\n",
        "plt.title('Language with Words common to Other Languages')\n",
        "plt.ylabel(\"Count\")\n",
        "plt.show()"
      ]
    },
    {
      "cell_type": "markdown",
      "id": "6b22ad0c",
      "metadata": {
        "id": "6b22ad0c"
      },
      "source": [
        "Zulu has the most shared words by other languages in the dataset. The implication of this is that, models will find it harder to accurately identify the Zulu language. <br ><br>"
      ]
    },
    {
      "cell_type": "markdown",
      "id": "49ff12aa",
      "metadata": {
        "id": "49ff12aa"
      },
      "source": [
        "#### 3.4.1 Languages with the most unique words"
      ]
    },
    {
      "cell_type": "code",
      "execution_count": null,
      "id": "d5782466",
      "metadata": {
        "id": "d5782466",
        "outputId": "387d80a8-85c3-437e-829a-a60496d60b9e",
        "colab": {
          "base_uri": "https://localhost:8080/"
        }
      },
      "outputs": [
        {
          "output_type": "execute_result",
          "data": {
            "text/plain": [
              "0    99983\n",
              "dtype: int64"
            ]
          },
          "metadata": {},
          "execution_count": 19
        }
      ],
      "source": [
        "languages = df_train['lang_id'].unique()\n",
        "dict_index = []\n",
        "dict_value = []\n",
        "for language in languages:\n",
        "    lang_words = set(create_bank_set(df_train, word=\"True\", category=language)[0])\n",
        "    all_words = set(create_bank_set(df_train[df_train['lang_id'] != language], word=\"True\")[0])\n",
        "    dict_index.append(language)\n",
        "    dict_value.append(len(lang_words.difference(all_words)))\n",
        "    \n",
        "unique = pd.DataFrame(dict_value, index=dict_index)\n",
        "unique.sum()"
      ]
    },
    {
      "cell_type": "code",
      "execution_count": null,
      "id": "a8ebcef3",
      "metadata": {
        "id": "a8ebcef3",
        "outputId": "03840836-c85e-4853-a81d-33557fda31f4",
        "colab": {
          "base_uri": "https://localhost:8080/",
          "height": 390
        }
      },
      "outputs": [
        {
          "output_type": "display_data",
          "data": {
            "text/plain": [
              "<Figure size 576x432 with 1 Axes>"
            ],
            "image/png": "[encoded data removed]"
          },
          "metadata": {
            "needs_background": "light"
          }
        }
      ],
      "source": [
        "fig, ax = plt.subplots(figsize = (8, 6))\n",
        "sns.barplot(x=unique.index, y=unique[0], ax=ax, palette=\"Blues_d\")\n",
        "plt.title('Languages with the most unique words')\n",
        "plt.ylabel(\"Count\")\n",
        "plt.show()"
      ]
    },
    {
      "cell_type": "markdown",
      "id": "9e55aa05",
      "metadata": {
        "id": "9e55aa05"
      },
      "source": [
        "All the laguages are equally distributed in the training dataset, yet, inspite of Zulu having the most shared words among teh languages, it still ranks amongs languages with the most unique words. Hence, it can only mean that most Zulu texts contain more number of words compared to the other languages.<br><br>"
      ]
    },
    {
      "cell_type": "markdown",
      "id": "6732e65d",
      "metadata": {
        "id": "6732e65d"
      },
      "source": [
        "#### 3.4.2 Average Number Of Words Per text for each feature"
      ]
    },
    {
      "cell_type": "code",
      "execution_count": null,
      "id": "abb31a94",
      "metadata": {
        "id": "abb31a94"
      },
      "outputs": [],
      "source": [
        "languages = df_train['lang_id'].unique()\n",
        "dict_index = []\n",
        "dict_value = []\n",
        "for language in languages:\n",
        "    lang_words = len(list(create_bank_set(df_train, word=\"True\", category=language)[0])) / df_train.shape[0]\n",
        "    dict_index.append(language)\n",
        "    dict_value.append(lang_words)\n",
        "    \n",
        "avg = pd.DataFrame(dict_value, index=dict_index)"
      ]
    },
    {
      "cell_type": "code",
      "execution_count": null,
      "id": "c413cfeb",
      "metadata": {
        "id": "c413cfeb",
        "outputId": "2ea76677-68dd-43dc-b782-8ad8231922e3",
        "colab": {
          "base_uri": "https://localhost:8080/",
          "height": 404
        }
      },
      "outputs": [
        {
          "output_type": "display_data",
          "data": {
            "text/plain": [
              "<Figure size 576x432 with 1 Axes>"
            ],
            "image/png": "[encoded data removed]"
          },
          "metadata": {
            "needs_background": "light"
          }
        }
      ],
      "source": [
        "fig, ax = plt.subplots(figsize = (8, 6))\n",
        "sns.barplot(x=avg[0], y=avg.index, ax=ax, palette=\"Blues_d\")\n",
        "plt.title('Average Words in a text per class')\n",
        "plt.ylabel(\"Count\")\n",
        "plt.show()"
      ]
    },
    {
      "cell_type": "markdown",
      "id": "eb8f43eb",
      "metadata": {
        "id": "eb8f43eb"
      },
      "source": [
        "Surprising that ZUlu ranks among the lowest in terms of words per text. <br><br>"
      ]
    },
    {
      "cell_type": "markdown",
      "id": "1bf47d9c",
      "metadata": {
        "id": "1bf47d9c"
      },
      "source": [
        "## 4.0 Data Cleaning and Engineering"
      ]
    },
    {
      "cell_type": "markdown",
      "id": "ee25766d",
      "metadata": {
        "id": "ee25766d"
      },
      "source": [
        "In this section, the recommendations from the exploratory data analysis phase is implemented. The dataset was cleaned and features engineered from the message field."
      ]
    },
    {
      "cell_type": "markdown",
      "id": "e63f4cfb",
      "metadata": {
        "id": "e63f4cfb"
      },
      "source": [
        "### 4.1 Text Cleaning\n",
        "\n",
        "The dataset contains punctuations and numbers. Words also exist in different cases which models might translate different. Hence, the proceeding function performs cleaning by:\n",
        "- Remove punctuations\n",
        "- Change  Case to lower case"
      ]
    },
    {
      "cell_type": "code",
      "execution_count": null,
      "id": "1ef4a92d",
      "metadata": {
        "id": "1ef4a92d"
      },
      "outputs": [],
      "source": [
        "def clean_data(text):\n",
        "    # change the case of all the words in the text to lowercase \n",
        "    text = text.lower()\n",
        "    \n",
        "    # remove punctuation\n",
        "    text = \"\".join([x for x in text if x not in string.punctuation])\n",
        "    \n",
        "    # remove numbers\n",
        "    text = re.sub(r'\\d+', '', text)\n",
        "    \n",
        "    return text"
      ]
    },
    {
      "cell_type": "code",
      "execution_count": null,
      "id": "b1a76a33",
      "metadata": {
        "id": "b1a76a33",
        "outputId": "b14d787d-d54b-40c7-e513-f913e7dcb78f",
        "colab": {
          "base_uri": "https://localhost:8080/",
          "height": 206
        }
      },
      "outputs": [
        {
          "output_type": "execute_result",
          "data": {
            "text/plain": [
              "  lang_id                                               text\n",
              "0     xho  umgaqosiseko wenza amalungiselelo kumaziko axh...\n",
              "1     xho  idha iya kuba nobulumko bokubeka umsebenzi nap...\n",
              "2     eng  the province of kwazulunatal department of tra...\n",
              "3     nso  o netefatša gore o ba file dilo ka moka tše le...\n",
              "4     ven  khomishini ya ndinganyiso ya mbeu yo ewa maana..."
            ],
            "text/html": [
              "\n",
              "  <div id=\"df-c2141af0-fb47-44e1-90f7-f64f47d07da8\">\n",
              "    <div class=\"colab-df-container\">\n",
              "      <div>\n",
              "<style scoped>\n",
              "    .dataframe tbody tr th:only-of-type {\n",
              "        vertical-align: middle;\n",
              "    }\n",
              "\n",
              "    .dataframe tbody tr th {\n",
              "        vertical-align: top;\n",
              "    }\n",
              "\n",
              "    .dataframe thead th {\n",
              "        text-align: right;\n",
              "    }\n",
              "</style>\n",
              "<table border=\"1\" class=\"dataframe\">\n",
              "  <thead>\n",
              "    <tr style=\"text-align: right;\">\n",
              "      <th></th>\n",
              "      <th>lang_id</th>\n",
              "      <th>text</th>\n",
              "    </tr>\n",
              "  </thead>\n",
              "  <tbody>\n",
              "    <tr>\n",
              "      <th>0</th>\n",
              "      <td>xho</td>\n",
              "      <td>umgaqosiseko wenza amalungiselelo kumaziko axh...</td>\n",
              "    </tr>\n",
              "    <tr>\n",
              "      <th>1</th>\n",
              "      <td>xho</td>\n",
              "      <td>idha iya kuba nobulumko bokubeka umsebenzi nap...</td>\n",
              "    </tr>\n",
              "    <tr>\n",
              "      <th>2</th>\n",
              "      <td>eng</td>\n",
              "      <td>the province of kwazulunatal department of tra...</td>\n",
              "    </tr>\n",
              "    <tr>\n",
              "      <th>3</th>\n",
              "      <td>nso</td>\n",
              "      <td>o netefatša gore o ba file dilo ka moka tše le...</td>\n",
              "    </tr>\n",
              "    <tr>\n",
              "      <th>4</th>\n",
              "      <td>ven</td>\n",
              "      <td>khomishini ya ndinganyiso ya mbeu yo ewa maana...</td>\n",
              "    </tr>\n",
              "  </tbody>\n",
              "</table>\n",
              "</div>\n",
              "      <button class=\"colab-df-convert\" onclick=\"convertToInteractive('df-c2141af0-fb47-44e1-90f7-f64f47d07da8')\"\n",
              "              title=\"Convert this dataframe to an interactive table.\"\n",
              "              style=\"display:none;\">\n",
              "        \n",
              "  <svg xmlns=\"http://www.w3.org/2000/svg\" height=\"24px\"viewBox=\"0 0 24 24\"\n",
              "       width=\"24px\">\n",
              "    <path d=\"M0 0h24v24H0V0z\" fill=\"none\"/>\n",
              "    <path d=\"M18.56 5.44l.94 2.06.94-2.06 2.06-.94-2.06-.94-.94-2.06-.94 2.06-2.06.94zm-11 1L8.5 8.5l.94-2.06 2.06-.94-2.06-.94L8.5 2.5l-.94 2.06-2.06.94zm10 10l.94 2.06.94-2.06 2.06-.94-2.06-.94-.94-2.06-.94 2.06-2.06.94z\"/><path d=\"M17.41 7.96l-1.37-1.37c-.4-.4-.92-.59-1.43-.59-.52 0-1.04.2-1.43.59L10.3 9.45l-7.72 7.72c-.78.78-.78 2.05 0 2.83L4 21.41c.39.39.9.59 1.41.59.51 0 1.02-.2 1.41-.59l7.78-7.78 2.81-2.81c.8-.78.8-2.07 0-2.86zM5.41 20L4 18.59l7.72-7.72 1.47 1.35L5.41 20z\"/>\n",
              "  </svg>\n",
              "      </button>\n",
              "      \n",
              "  <style>\n",
              "    .colab-df-container {\n",
              "      display:flex;\n",
              "      flex-wrap:wrap;\n",
              "      gap: 12px;\n",
              "    }\n",
              "\n",
              "    .colab-df-convert {\n",
              "      background-color: #E8F0FE;\n",
              "      border: none;\n",
              "      border-radius: 50%;\n",
              "      cursor: pointer;\n",
              "      display: none;\n",
              "      fill: #1967D2;\n",
              "      height: 32px;\n",
              "      padding: 0 0 0 0;\n",
              "      width: 32px;\n",
              "    }\n",
              "\n",
              "    .colab-df-convert:hover {\n",
              "      background-color: #E2EBFA;\n",
              "      box-shadow: 0px 1px 2px rgba(60, 64, 67, 0.3), 0px 1px 3px 1px rgba(60, 64, 67, 0.15);\n",
              "      fill: #174EA6;\n",
              "    }\n",
              "\n",
              "    [theme=dark] .colab-df-convert {\n",
              "      background-color: #3B4455;\n",
              "      fill: #D2E3FC;\n",
              "    }\n",
              "\n",
              "    [theme=dark] .colab-df-convert:hover {\n",
              "      background-color: #434B5C;\n",
              "      box-shadow: 0px 1px 3px 1px rgba(0, 0, 0, 0.15);\n",
              "      filter: drop-shadow(0px 1px 2px rgba(0, 0, 0, 0.3));\n",
              "      fill: #FFFFFF;\n",
              "    }\n",
              "  </style>\n",
              "\n",
              "      <script>\n",
              "        const buttonEl =\n",
              "          document.querySelector('#df-c2141af0-fb47-44e1-90f7-f64f47d07da8 button.colab-df-convert');\n",
              "        buttonEl.style.display =\n",
              "          google.colab.kernel.accessAllowed ? 'block' : 'none';\n",
              "\n",
              "        async function convertToInteractive(key) {\n",
              "          const element = document.querySelector('#df-c2141af0-fb47-44e1-90f7-f64f47d07da8');\n",
              "          const dataTable =\n",
              "            await google.colab.kernel.invokeFunction('convertToInteractive',\n",
              "                                                     [key], {});\n",
              "          if (!dataTable) return;\n",
              "\n",
              "          const docLinkHtml = 'Like what you see? Visit the ' +\n",
              "            '<a target=\"_blank\" href=https://colab.research.google.com/notebooks/data_table.ipynb>data table notebook</a>'\n",
              "            + ' to learn more about interactive tables.';\n",
              "          element.innerHTML = '';\n",
              "          dataTable['output_type'] = 'display_data';\n",
              "          await google.colab.output.renderOutput(dataTable, element);\n",
              "          const docLink = document.createElement('div');\n",
              "          docLink.innerHTML = docLinkHtml;\n",
              "          element.appendChild(docLink);\n",
              "        }\n",
              "      </script>\n",
              "    </div>\n",
              "  </div>\n",
              "  "
            ]
          },
          "metadata": {},
          "execution_count": 24
        }
      ],
      "source": [
        "# Clean the train dataset\n",
        "df_train['text'] = df_train['text'].apply(clean_data)\n",
        "\n",
        "# Clean the test dataset\n",
        "df_test['text'] = df_test['text'].apply(clean_data)\n",
        "\n",
        "df_train.head()"
      ]
    },
    {
      "cell_type": "markdown",
      "id": "ddf44b6f",
      "metadata": {
        "id": "ddf44b6f"
      },
      "source": [
        "### 4.2 Split Dataset into Training and Validation set"
      ]
    },
    {
      "cell_type": "markdown",
      "id": "07086acd",
      "metadata": {
        "id": "07086acd"
      },
      "source": [
        "To properly assess a model, we need to assess the model on data which it has not seen before. Hence, there is a need to split the training dataset into two different datasets; the training dataset - which will be used to train a model and the validation set - which will be used to measure the performance of the model. "
      ]
    },
    {
      "cell_type": "code",
      "execution_count": null,
      "id": "ef51e3b7",
      "metadata": {
        "id": "ef51e3b7"
      },
      "outputs": [],
      "source": [
        "train_x, validation_x, train_y, validation_y = train_test_split(df_train['text'], \n",
        "                                                                df_train['lang_id'], \n",
        "                                                                test_size=0.2,  \n",
        "                                                                random_state=20)"
      ]
    },
    {
      "cell_type": "markdown",
      "id": "c8a7ef4b",
      "metadata": {
        "id": "c8a7ef4b"
      },
      "source": [
        "## 5.0 Data Modeling and Evaluation"
      ]
    },
    {
      "cell_type": "markdown",
      "id": "ee84eca1",
      "metadata": {
        "id": "ee84eca1"
      },
      "source": [
        "### 5.1 Feature Extraction (Vectorization)"
      ]
    },
    {
      "cell_type": "markdown",
      "id": "d02488a9",
      "metadata": {
        "id": "d02488a9"
      },
      "source": [
        "To create a model, there is a need to have a set of feature(s) and target. Most models only accept numerical values for feature sets. For this project, our feature is a string of words. Hence there is a need to create vectors of digits from these words. The process is called Vectorization.\n",
        "\n",
        "For this project we define a vectorizer with the following tuning\n",
        "- ngram_range = (4, 8)\n",
        "- max_df = 0.7\n",
        "- min_df = 3"
      ]
    },
    {
      "cell_type": "code",
      "execution_count": null,
      "id": "8e7124c7",
      "metadata": {
        "id": "8e7124c7"
      },
      "outputs": [],
      "source": [
        "vectorizer = TfidfVectorizer(ngram_range=(4,8), \n",
        "                             analyzer='char', \n",
        "                             min_df=5, \n",
        "                             max_df = 0.7)"
      ]
    },
    {
      "cell_type": "markdown",
      "id": "4d64d338",
      "metadata": {
        "id": "4d64d338"
      },
      "source": [
        "### 5.2 Modeling Function"
      ]
    },
    {
      "cell_type": "markdown",
      "source": [
        "The function defined below can be used to create, vectorize and train a model using a pipeline. The function takes in the vectorizer class, the model to use and the train datasets as arguments and returns a trained model instance."
      ],
      "metadata": {
        "id": "Y8k0DY43qoqx"
      },
      "id": "Y8k0DY43qoqx"
    },
    {
      "cell_type": "code",
      "execution_count": null,
      "id": "152c584e",
      "metadata": {
        "id": "152c584e"
      },
      "outputs": [],
      "source": [
        "def create_model(vectorizer, model, x_train, y_train): \n",
        "    model = pipeline.Pipeline([\n",
        "        ('vectorizer', vectorizer),\n",
        "        ('clf', model())\n",
        "    ])\n",
        "    return model.fit(x_train,y_train)"
      ]
    },
    {
      "cell_type": "markdown",
      "source": [
        "The function below can be used to evaluate a model on avalidation set. The function takes in the trained model and the validation sets as arguments and returns the classification report."
      ],
      "metadata": {
        "id": "vyiwkgGFrK4o"
      },
      "id": "vyiwkgGFrK4o"
    },
    {
      "cell_type": "code",
      "execution_count": null,
      "id": "b90faa39",
      "metadata": {
        "id": "b90faa39"
      },
      "outputs": [],
      "source": [
        "def evaluate(model, x_test, y_test):\n",
        "    y_pred = model.predict(x_test)\n",
        "    print(classification_report(y_test,y_pred))"
      ]
    },
    {
      "cell_type": "markdown",
      "id": "cb6ae438",
      "metadata": {
        "id": "cb6ae438"
      },
      "source": [
        "### 5.3  Training and Evaluating Models"
      ]
    },
    {
      "cell_type": "markdown",
      "id": "d75a9f42",
      "metadata": {
        "id": "d75a9f42"
      },
      "source": [
        "#### Logistic Regressor"
      ]
    },
    {
      "cell_type": "code",
      "execution_count": null,
      "id": "196a7e39",
      "metadata": {
        "id": "196a7e39",
        "colab": {
          "base_uri": "https://localhost:8080/"
        },
        "outputId": "f4076e32-08f2-49a6-e05a-5ccd63a92a20"
      },
      "outputs": [
        {
          "output_type": "stream",
          "name": "stdout",
          "text": [
            "              precision    recall  f1-score   support\n",
            "\n",
            "         afr       1.00      1.00      1.00       386\n",
            "         eng       1.00      1.00      1.00       362\n",
            "         nbl       1.00      0.99      1.00       400\n",
            "         nso       1.00      1.00      1.00       396\n",
            "         sot       1.00      1.00      1.00       354\n",
            "         ssw       1.00      1.00      1.00       350\n",
            "         tsn       1.00      1.00      1.00       370\n",
            "         tso       1.00      1.00      1.00       409\n",
            "         ven       1.00      1.00      1.00       380\n",
            "         xho       1.00      1.00      1.00       359\n",
            "         zul       0.99      1.00      1.00       387\n",
            "\n",
            "    accuracy                           1.00      4153\n",
            "   macro avg       1.00      1.00      1.00      4153\n",
            "weighted avg       1.00      1.00      1.00      4153\n",
            "\n"
          ]
        }
      ],
      "source": [
        "lgr_model = create_model(vectorizer, LogisticRegression, train_x, train_y)\n",
        "evaluate(lgr_model, validation_x, validation_y)"
      ]
    },
    {
      "cell_type": "markdown",
      "source": [
        "The considered problem is high dimentional (many features) and high dimensional problems are likely to be linearly separable meaning the different point can be seperated with a linear classifier, regardless of how the points are labelled. So linear classifiers like ridge regression or SVM with a linear kernel, are likely to do well. The logistic Regression model is a linear model for both regression and classification problems. Logistic regression classifies events by calculating the probability of the event occurring. For this use case, the model achieves a perfect accuracy, although it returns a precision of 99% for the zulu language; meaning that the models classifies some test samples which are not Zulu to be Zulu (False Positive). This result has been forecasted from the EDA because the Zulu language has the most words common to other languages."
      ],
      "metadata": {
        "id": "SssD_cVWwEJw"
      },
      "id": "SssD_cVWwEJw"
    },
    {
      "cell_type": "markdown",
      "id": "a8bc1ad4",
      "metadata": {
        "id": "a8bc1ad4"
      },
      "source": [
        "#### Ridge Regressor"
      ]
    },
    {
      "cell_type": "code",
      "execution_count": null,
      "id": "c08d58dd",
      "metadata": {
        "id": "c08d58dd",
        "colab": {
          "base_uri": "https://localhost:8080/"
        },
        "outputId": "3570f34a-0f12-4a88-8409-4fa2b81b32bf"
      },
      "outputs": [
        {
          "output_type": "stream",
          "name": "stdout",
          "text": [
            "              precision    recall  f1-score   support\n",
            "\n",
            "         afr       1.00      1.00      1.00       386\n",
            "         eng       1.00      1.00      1.00       362\n",
            "         nbl       1.00      1.00      1.00       400\n",
            "         nso       1.00      1.00      1.00       396\n",
            "         sot       1.00      1.00      1.00       354\n",
            "         ssw       1.00      1.00      1.00       350\n",
            "         tsn       1.00      1.00      1.00       370\n",
            "         tso       1.00      1.00      1.00       409\n",
            "         ven       1.00      1.00      1.00       380\n",
            "         xho       1.00      1.00      1.00       359\n",
            "         zul       1.00      1.00      1.00       387\n",
            "\n",
            "    accuracy                           1.00      4153\n",
            "   macro avg       1.00      1.00      1.00      4153\n",
            "weighted avg       1.00      1.00      1.00      4153\n",
            "\n"
          ]
        }
      ],
      "source": [
        "ridge_model = create_model(vectorizer, RidgeClassifier, train_x, train_y)\n",
        "evaluate(ridge_model, validation_x, validation_y)"
      ]
    },
    {
      "cell_type": "markdown",
      "source": [
        "Since, a linear classifier did very well, the ridge classifier was considered. The Ridge Classifier is also a linear model which builds on the Linear regressor to improve performance. Hence, the choice to implement the Ridge Classifier. The result was perfect."
      ],
      "metadata": {
        "id": "1kc7YGArzkpk"
      },
      "id": "1kc7YGArzkpk"
    },
    {
      "cell_type": "markdown",
      "id": "bc0468fa",
      "metadata": {
        "id": "bc0468fa"
      },
      "source": [
        "#### Stochastic Gradient Descent  Classifier (SGD-Classifier)"
      ]
    },
    {
      "cell_type": "code",
      "execution_count": null,
      "id": "408d8301",
      "metadata": {
        "id": "408d8301",
        "colab": {
          "base_uri": "https://localhost:8080/"
        },
        "outputId": "8f1a8e71-b0f2-4cf9-e9bc-f25c2a2999bb"
      },
      "outputs": [
        {
          "output_type": "stream",
          "name": "stdout",
          "text": [
            "              precision    recall  f1-score   support\n",
            "\n",
            "         afr       1.00      1.00      1.00       386\n",
            "         eng       1.00      1.00      1.00       362\n",
            "         nbl       1.00      1.00      1.00       400\n",
            "         nso       1.00      1.00      1.00       396\n",
            "         sot       1.00      1.00      1.00       354\n",
            "         ssw       1.00      1.00      1.00       350\n",
            "         tsn       1.00      1.00      1.00       370\n",
            "         tso       1.00      1.00      1.00       409\n",
            "         ven       1.00      1.00      1.00       380\n",
            "         xho       1.00      1.00      1.00       359\n",
            "         zul       1.00      1.00      1.00       387\n",
            "\n",
            "    accuracy                           1.00      4153\n",
            "   macro avg       1.00      1.00      1.00      4153\n",
            "weighted avg       1.00      1.00      1.00      4153\n",
            "\n"
          ]
        }
      ],
      "source": [
        "sgdc_model = create_model(vectorizer, SGDClassifier, train_x, train_y)\n",
        "evaluate(sgdc_model, validation_x, validation_y)"
      ]
    },
    {
      "cell_type": "markdown",
      "source": [
        "This result is a confirmation that the data entries in this problem are very linearly seperable. That serves as the explanation for why the linear models are performing perfectly on the dataset."
      ],
      "metadata": {
        "id": "_6ZSdXon0sPd"
      },
      "id": "_6ZSdXon0sPd"
    },
    {
      "cell_type": "markdown",
      "id": "f6ed1188",
      "metadata": {
        "id": "f6ed1188"
      },
      "source": [
        "#### K Nearest Neighbour"
      ]
    },
    {
      "cell_type": "code",
      "execution_count": null,
      "id": "c04cd4c4",
      "metadata": {
        "id": "c04cd4c4",
        "colab": {
          "base_uri": "https://localhost:8080/"
        },
        "outputId": "54a31a68-bac2-4edc-d90b-6233f03cd7e2"
      },
      "outputs": [
        {
          "output_type": "stream",
          "name": "stdout",
          "text": [
            "              precision    recall  f1-score   support\n",
            "\n",
            "         afr       1.00      1.00      1.00       386\n",
            "         eng       1.00      1.00      1.00       362\n",
            "         nbl       0.93      0.94      0.93       400\n",
            "         nso       0.97      0.99      0.98       396\n",
            "         sot       0.98      0.97      0.98       354\n",
            "         ssw       0.93      0.97      0.95       350\n",
            "         tsn       0.98      0.96      0.97       370\n",
            "         tso       1.00      0.99      1.00       409\n",
            "         ven       0.99      1.00      1.00       380\n",
            "         xho       0.94      0.97      0.95       359\n",
            "         zul       0.94      0.87      0.90       387\n",
            "\n",
            "    accuracy                           0.97      4153\n",
            "   macro avg       0.97      0.97      0.97      4153\n",
            "weighted avg       0.97      0.97      0.97      4153\n",
            "\n"
          ]
        }
      ],
      "source": [
        "knn_model = create_model(vectorizer, KNeighborsClassifier, train_x, train_y)\n",
        "evaluate(knn_model, validation_x, validation_y)"
      ]
    },
    {
      "cell_type": "markdown",
      "source": [
        "Having considered models based on linear and unlinear layout of datapoints, an algorithms which based on an entirely different appraoch is considered. Hence, the K-Nearest Neighbor classifier is considered. The K-Nearest Neighbor classifier is a nonparametric classification method which uses plurality of vote of its neighbors for classification. K is the defined number of neighbors used in voting. As indicated by the report, this models performs less impressive than the linear models."
      ],
      "metadata": {
        "id": "J382Pa6t1Kod"
      },
      "id": "J382Pa6t1Kod"
    }
  ],
  "metadata": {
    "kernelspec": {
      "display_name": "Python 3 (ipykernel)",
      "language": "python",
      "name": "python3"
    },
    "language_info": {
      "codemirror_mode": {
        "name": "ipython",
        "version": 3
      },
      "file_extension": ".py",
      "mimetype": "text/x-python",
      "name": "python",
      "nbconvert_exporter": "python",
      "pygments_lexer": "ipython3",
      "version": "3.9.10"
    },
    "colab": {
      "name": "SA_Language_Recognition .ipynb",
      "provenance": [],
      "collapsed_sections": [],
      "toc_visible": true
    }
  },
  "nbformat": 4,
  "nbformat_minor": 5
}