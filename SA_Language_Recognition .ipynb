{
 "cells": [
  {
   "cell_type": "markdown",
   "id": "23a13a04",
   "metadata": {},
   "source": [
    "# South African Language Identification\n",
    "\n",
    "© Explore Data Science Academy Hackathon 2022\n",
    "\n",
    "---"
   ]
  },
  {
   "cell_type": "markdown",
   "id": "692b3e31",
   "metadata": {},
   "source": [
    "## 1.0 Overview\n",
    "\n",
    "<img src=\"images/banner.jpg\"/>\n",
    "\n",
    "South Africa is a multicultural society that is characterised by its rich linguistic diversity. Language is an indispensable tool that can be used to deepen democracy and also contribute to the social, cultural, intellectual, economic and political life of the South African society.\n",
    "\n",
    "The country is multilingual with 11 official languages, each of which is guaranteed equal status. Most South Africans are multilingual and able to speak at least two or more of the official languages. With such a multilingual population, it is only obvious that our systems and devices also communicate in multi-languages.\n",
    "\n",
    "In this challenge, you will take text which is in any of South Africa's 11 Official languages and identify which language the text is in. This is an example of NLP's Language Identification, the task of determining the natural language that a piece of text is written in.\n",
    "\n",
    "---"
   ]
  },
  {
   "cell_type": "markdown",
   "id": "a8c6cfa8",
   "metadata": {},
   "source": [
    "## 2.0 Importing Packages"
   ]
  },
  {
   "cell_type": "code",
   "execution_count": 1,
   "id": "1c1cc31a",
   "metadata": {},
   "outputs": [],
   "source": [
    "# data loading and manipulation packages\n",
    "import pandas as pd\n",
    "from nltk import tokenize\n",
    "import string\n",
    "import re\n",
    "from sklearn.model_selection import train_test_split\n",
    "from sklearn.feature_extraction.text import TfidfVectorizer\n",
    "\n",
    "# data Visualisation Packages\n",
    "import seaborn as sns\n",
    "import matplotlib.pyplot as plt\n",
    "\n",
    "# data modeling and evaluation packages\n",
    "from sklearn.linear_model import LogisticRegression\n",
    "from sklearn.linear_model import RidgeClassifier\n",
    "from sklearn import pipeline\n",
    "from sklearn.metrics import classification_report"
   ]
  },
  {
   "cell_type": "markdown",
   "id": "15c0c550",
   "metadata": {},
   "source": [
    "For this project, three distinct packages were used; Pandas - for reading and manipulating the datasets, nltk - for natural language processing and sklearn for modeling and evaluation. <br ><br >"
   ]
  },
  {
   "cell_type": "markdown",
   "id": "c226651b",
   "metadata": {},
   "source": [
    "## 2.0 Loading Datasets"
   ]
  },
  {
   "cell_type": "code",
   "execution_count": 2,
   "id": "f416a15d",
   "metadata": {},
   "outputs": [],
   "source": [
    "# read the training dataset\n",
    "df_train = pd.read_csv('data/train_set.csv')\n",
    "\n",
    "# read the testing dataset\n",
    "df_test = pd.read_csv('data/test_set.csv')"
   ]
  },
  {
   "cell_type": "markdown",
   "id": "a131d0ed",
   "metadata": {},
   "source": [
    "The datasets for this project is included in the data subfolder of this notebook. <br><br>"
   ]
  },
  {
   "cell_type": "markdown",
   "id": "1669f454",
   "metadata": {},
   "source": [
    "## 3.0 Exploratory Data Analysis"
   ]
  },
  {
   "cell_type": "markdown",
   "id": "2ccd197d",
   "metadata": {},
   "source": [
    "Exploratory data analysis is an approach to analyzing data sets to summarize their main characteristics, often with visual methods. Primarily, EDA is for seeing what the data can tell us beyond the formal modeling or hypothesis testing task.This approach for data analysis uses many tools(mainly graphical to maximize insight into a data set, extract important variables, detect outliers and anomalies, amongst other details that is missed when looking at DataFrame. This step is very important especially when we model the data in order to apply Machine Learning techniques."
   ]
  },
  {
   "cell_type": "markdown",
   "id": "c2c005bc",
   "metadata": {},
   "source": [
    "### 3.1 Overview of the Training Dataset"
   ]
  },
  {
   "cell_type": "code",
   "execution_count": 3,
   "id": "68840b47",
   "metadata": {},
   "outputs": [
    {
     "data": {
      "text/html": [
       "<div>\n",
       "<style scoped>\n",
       "    .dataframe tbody tr th:only-of-type {\n",
       "        vertical-align: middle;\n",
       "    }\n",
       "\n",
       "    .dataframe tbody tr th {\n",
       "        vertical-align: top;\n",
       "    }\n",
       "\n",
       "    .dataframe thead th {\n",
       "        text-align: right;\n",
       "    }\n",
       "</style>\n",
       "<table border=\"1\" class=\"dataframe\">\n",
       "  <thead>\n",
       "    <tr style=\"text-align: right;\">\n",
       "      <th></th>\n",
       "      <th>lang_id</th>\n",
       "      <th>text</th>\n",
       "    </tr>\n",
       "  </thead>\n",
       "  <tbody>\n",
       "    <tr>\n",
       "      <th>0</th>\n",
       "      <td>xho</td>\n",
       "      <td>umgaqo-siseko wenza amalungiselelo kumaziko ax...</td>\n",
       "    </tr>\n",
       "    <tr>\n",
       "      <th>1</th>\n",
       "      <td>xho</td>\n",
       "      <td>i-dha iya kuba nobulumko bokubeka umsebenzi na...</td>\n",
       "    </tr>\n",
       "    <tr>\n",
       "      <th>2</th>\n",
       "      <td>eng</td>\n",
       "      <td>the province of kwazulu-natal department of tr...</td>\n",
       "    </tr>\n",
       "    <tr>\n",
       "      <th>3</th>\n",
       "      <td>nso</td>\n",
       "      <td>o netefatša gore o ba file dilo ka moka tše le...</td>\n",
       "    </tr>\n",
       "    <tr>\n",
       "      <th>4</th>\n",
       "      <td>ven</td>\n",
       "      <td>khomishini ya ndinganyiso ya mbeu yo ewa maana...</td>\n",
       "    </tr>\n",
       "  </tbody>\n",
       "</table>\n",
       "</div>"
      ],
      "text/plain": [
       "  lang_id                                               text\n",
       "0     xho  umgaqo-siseko wenza amalungiselelo kumaziko ax...\n",
       "1     xho  i-dha iya kuba nobulumko bokubeka umsebenzi na...\n",
       "2     eng  the province of kwazulu-natal department of tr...\n",
       "3     nso  o netefatša gore o ba file dilo ka moka tše le...\n",
       "4     ven  khomishini ya ndinganyiso ya mbeu yo ewa maana..."
      ]
     },
     "execution_count": 3,
     "metadata": {},
     "output_type": "execute_result"
    }
   ],
   "source": [
    "df_train.head()"
   ]
  },
  {
   "cell_type": "markdown",
   "id": "d38fdf93",
   "metadata": {},
   "source": [
    "A quick snapshot of the dataset indicates that the dataset contains a single predictor; text with a target variable; lang_id. From the above snapshot, it is not obvious the cleanliness status of the dataset. <br ><br >"
   ]
  },
  {
   "cell_type": "code",
   "execution_count": 4,
   "id": "46560a2b",
   "metadata": {},
   "outputs": [
    {
     "name": "stdout",
     "output_type": "stream",
     "text": [
      "<class 'pandas.core.frame.DataFrame'>\n",
      "RangeIndex: 33000 entries, 0 to 32999\n",
      "Data columns (total 2 columns):\n",
      " #   Column   Non-Null Count  Dtype \n",
      "---  ------   --------------  ----- \n",
      " 0   lang_id  33000 non-null  object\n",
      " 1   text     33000 non-null  object\n",
      "dtypes: object(2)\n",
      "memory usage: 515.8+ KB\n"
     ]
    }
   ],
   "source": [
    "df_train.info()"
   ]
  },
  {
   "cell_type": "markdown",
   "id": "18a38bc4",
   "metadata": {},
   "source": [
    "The dataset is free of nulls. The shape of the dataset can also be deduced to be (33000 x 2). No cleanings required in terms of missing values. <br><br>"
   ]
  },
  {
   "cell_type": "markdown",
   "id": "def57887",
   "metadata": {},
   "source": [
    "**Summary of Observations:**\n",
    "* The train dataset has 33000 rows\n",
    "* The train dataset contains two features\n",
    "* both features are categorical - 'text' and 'lang_id'\n",
    "* No special characters were immediately visible execpt '-' used in joining multi-words "
   ]
  },
  {
   "cell_type": "markdown",
   "id": "e39bbb43",
   "metadata": {},
   "source": [
    "### 3.2 Analysis of the Target Feature"
   ]
  },
  {
   "cell_type": "markdown",
   "id": "d198ec45",
   "metadata": {},
   "source": [
    "#### 3.2.1 Language Distribution"
   ]
  },
  {
   "cell_type": "code",
   "execution_count": 5,
   "id": "99cb0372",
   "metadata": {},
   "outputs": [
    {
     "data": {
      "image/png": "[encoded data removed]",
      "text/plain": [
       "<Figure size 576x432 with 1 Axes>"
      ]
     },
     "metadata": {
      "needs_background": "light"
     },
     "output_type": "display_data"
    }
   ],
   "source": [
    "# Count occurence of each class in training dataset\n",
    "category_counts = df_train['lang_id'].value_counts()\n",
    "category_counts\n",
    "\n",
    "'''\n",
    "    Calculate the number of texts per language \n",
    "    and plot the class distributions results\n",
    "'''\n",
    "\n",
    "fig, ax = plt.subplots(figsize = (8, 6))\n",
    "target =df_train['lang_id'].value_counts()\n",
    "sns.barplot(x=target.index, y=target, ax=ax, palette=\"Blues_d\")\n",
    "plt.title('Language Distributions')\n",
    "plt.ylabel(\"Count\")\n",
    "plt.show()"
   ]
  },
  {
   "cell_type": "markdown",
   "id": "99d3b2a1",
   "metadata": {},
   "source": [
    "The training dataset has balanced classes. The implication of using this training dataset will be the creation of a model whose identification of each language is unbiased. For an instance, every language have equal chances of being identified<br><br>"
   ]
  },
  {
   "cell_type": "markdown",
   "id": "f4579996",
   "metadata": {},
   "source": [
    "### 4.3 Analysis  of the Message feature"
   ]
  },
  {
   "cell_type": "markdown",
   "id": "b545611a",
   "metadata": {},
   "source": [
    "#### 4.3.1 Distinct Words"
   ]
  },
  {
   "cell_type": "code",
   "execution_count": 6,
   "id": "50c64e1c",
   "metadata": {},
   "outputs": [],
   "source": [
    " def create_bank_set(dataset, word=\"\", category=\"\"):\n",
    "    '''\n",
    "        Creates a list of all the words or characters in the text feature\n",
    "        \n",
    "        Input:\n",
    "            dataset - The dataset to extract words or characters from\n",
    "            category - Filters the dataset by the specified category\n",
    "            type - Specifies the level of extraction; wether characters or words\n",
    "        \n",
    "        Output:\n",
    "            pandas DataFrame of all the characters or words of the specified category \n",
    "    '''\n",
    "    corpus = []\n",
    "    if category:\n",
    "        df = dataset[dataset['lang_id'] == category]['text']\n",
    "    else:\n",
    "        df = dataset['text']\n",
    "    \n",
    "    if word:\n",
    "        bank = []\n",
    "        for row in df:\n",
    "            bank.extend(row.split(\" \"))\n",
    "    else:\n",
    "        bank = [row[x] for row in df for x in range(len(row))]\n",
    "        \n",
    "    return pd.DataFrame(bank)"
   ]
  },
  {
   "cell_type": "markdown",
   "id": "c44740ee",
   "metadata": {},
   "source": [
    "<br />\n",
    "Using the create_bank_set function to create a word bank for the entire train dataset"
   ]
  },
  {
   "cell_type": "code",
   "execution_count": 7,
   "id": "55e2711f",
   "metadata": {},
   "outputs": [
    {
     "name": "stdout",
     "output_type": "stream",
     "text": [
      "Total words: 1225280 \n",
      "Distinct words: 145405\n",
      "A word is repeated an average of: 8.426670334582717 times\n"
     ]
    }
   ],
   "source": [
    "words = create_bank_set(df_train, word=True)\n",
    "total_words = len(words[0])\n",
    "count_unique = len(words[0].unique())\n",
    "print(\"Total words: {} \\nDistinct words: {}\".format(total_words, count_unique))\n",
    "print(\"A word is repeated an average of: {} times\".format(total_words / count_unique))"
   ]
  },
  {
   "cell_type": "code",
   "execution_count": 8,
   "id": "e5a4584e",
   "metadata": {},
   "outputs": [
    {
     "data": {
      "text/plain": [
       "ya             28237\n",
       "a              21233\n",
       "le             21050\n",
       "ka             17960\n",
       "go             17099\n",
       "               ...  \n",
       "lungolexela        1\n",
       "lungiswa           1\n",
       "lungiselelo        1\n",
       "lungilo            1\n",
       "mabati             1\n",
       "Length: 145405, dtype: int64"
      ]
     },
     "execution_count": 8,
     "metadata": {},
     "output_type": "execute_result"
    }
   ],
   "source": [
    "words = create_bank_set(df_train, word=True)\n",
    "words_count = words.value_counts()\n",
    "\n",
    "words_count"
   ]
  },
  {
   "cell_type": "markdown",
   "id": "9e6981ea",
   "metadata": {},
   "source": [
    "#### 4.3.2 Words Common to more than One Language\n",
    "\n",
    "Some languages share words spelt similarly with words in other languages. Although, such words might not have same meaning in both languages. Do south African languages have such characteristics?"
   ]
  },
  {
   "cell_type": "code",
   "execution_count": 55,
   "id": "d2976622",
   "metadata": {},
   "outputs": [],
   "source": [
    "languages = df_train['lang_id'].unique()\n",
    "dict_index = []\n",
    "dict_value = []\n",
    "for language in languages:\n",
    "    lang_words = set(create_bank_set(df_train, word=\"True\", category=language)[0])\n",
    "    all_words = set(create_bank_set(df_train[df_train['lang_id'] != language], word=\"True\")[0])\n",
    "    dict_index.append(language)\n",
    "    dict_value.append(len(lang_words.intersection(all_words)))\n",
    "    \n",
    "common = pd.DataFrame(dict_value, index=dict_index)"
   ]
  },
  {
   "cell_type": "code",
   "execution_count": 61,
   "id": "a94a4b54",
   "metadata": {},
   "outputs": [
    {
     "data": {
      "image/png": "[encoded data removed]",
      "text/plain": [
       "<Figure size 576x432 with 1 Axes>"
      ]
     },
     "metadata": {
      "needs_background": "light"
     },
     "output_type": "display_data"
    }
   ],
   "source": [
    "\n",
    "fig, ax = plt.subplots(figsize = (8, 6))\n",
    "sns.barplot(x=common.index, y=common[0], ax=ax, palette=\"Blues_d\")\n",
    "plt.title('Language with Words common to Other Languages')\n",
    "plt.ylabel(\"Count\")\n",
    "plt.show()"
   ]
  },
  {
   "cell_type": "markdown",
   "id": "6b22ad0c",
   "metadata": {},
   "source": [
    "Zulu has the most shared words by other languages in the dataset. The implication of this is that, models will find it harder to accurately identify the Zulu language. <br ><br>"
   ]
  },
  {
   "cell_type": "markdown",
   "id": "49ff12aa",
   "metadata": {},
   "source": [
    "#### 4.3.3 Languages with the most unique words"
   ]
  },
  {
   "cell_type": "code",
   "execution_count": 63,
   "id": "d5782466",
   "metadata": {},
   "outputs": [
    {
     "data": {
      "text/plain": [
       "0    129742\n",
       "dtype: int64"
      ]
     },
     "execution_count": 63,
     "metadata": {},
     "output_type": "execute_result"
    }
   ],
   "source": [
    "languages = df_train['lang_id'].unique()\n",
    "dict_index = []\n",
    "dict_value = []\n",
    "for language in languages:\n",
    "    lang_words = set(create_bank_set(df_train, word=\"True\", category=language)[0])\n",
    "    all_words = set(create_bank_set(df_train[df_train['lang_id'] != language], word=\"True\")[0])\n",
    "    dict_index.append(language)\n",
    "    dict_value.append(len(lang_words.difference(all_words)))\n",
    "    \n",
    "unique = pd.DataFrame(dict_value, index=dict_index)\n",
    "unique.sum()"
   ]
  },
  {
   "cell_type": "code",
   "execution_count": 66,
   "id": "a8ebcef3",
   "metadata": {},
   "outputs": [
    {
     "data": {
      "image/png": "[encoded data removed]",
      "text/plain": [
       "<Figure size 576x432 with 1 Axes>"
      ]
     },
     "metadata": {
      "needs_background": "light"
     },
     "output_type": "display_data"
    }
   ],
   "source": [
    "fig, ax = plt.subplots(figsize = (8, 6))\n",
    "sns.barplot(x=unique.index, y=unique[0], ax=ax, palette=\"Blues_d\")\n",
    "plt.title('Languages with the most unique words')\n",
    "plt.ylabel(\"Count\")\n",
    "plt.show()"
   ]
  },
  {
   "cell_type": "markdown",
   "id": "9e55aa05",
   "metadata": {},
   "source": [
    "All the laguages are equally distributed in the training dataset, yet, inspite of Zulu having the most shared words among teh languages, it still ranks amongs languages with the most unique words. Hence, it can only mean that most Zulu texts contain more number of words compared to the other languages.<br><br>"
   ]
  },
  {
   "cell_type": "markdown",
   "id": "6732e65d",
   "metadata": {},
   "source": [
    "### 4.3.4 Average Number Of Words Per text for each feature"
   ]
  },
  {
   "cell_type": "code",
   "execution_count": 75,
   "id": "abb31a94",
   "metadata": {},
   "outputs": [],
   "source": [
    "languages = df_train['lang_id'].unique()\n",
    "dict_index = []\n",
    "dict_value = []\n",
    "for language in languages:\n",
    "    lang_words = len(list(create_bank_set(df_train, word=\"True\", category=language)[0])) / df_train.shape[0]\n",
    "    dict_index.append(language)\n",
    "    dict_value.append(lang_words)\n",
    "    \n",
    "avg = pd.DataFrame(dict_value, index=dict_index)"
   ]
  },
  {
   "cell_type": "code",
   "execution_count": 76,
   "id": "c413cfeb",
   "metadata": {},
   "outputs": [
    {
     "data": {
      "image/png": "[encoded data removed]",
      "text/plain": [
       "<Figure size 576x432 with 1 Axes>"
      ]
     },
     "metadata": {
      "needs_background": "light"
     },
     "output_type": "display_data"
    }
   ],
   "source": [
    "fig, ax = plt.subplots(figsize = (8, 6))\n",
    "sns.barplot(x=avg[0], y=avg.index, ax=ax, palette=\"Blues_d\")\n",
    "plt.title('Average Words in a text per class')\n",
    "plt.ylabel(\"Count\")\n",
    "plt.show()"
   ]
  },
  {
   "cell_type": "markdown",
   "id": "eb8f43eb",
   "metadata": {},
   "source": [
    "Surprising that ZUlu ranks among the lowest in terms of words per text. <br><br>"
   ]
  },
  {
   "cell_type": "markdown",
   "id": "1bf47d9c",
   "metadata": {},
   "source": [
    "## 4.0 Data Cleaning and Engineering"
   ]
  },
  {
   "cell_type": "markdown",
   "id": "ee25766d",
   "metadata": {},
   "source": [
    "In this section, the recommendations from the exploratory data analysis phase is implemented. The dataset was cleaned and features engineered from the message field."
   ]
  },
  {
   "cell_type": "markdown",
   "id": "e63f4cfb",
   "metadata": {},
   "source": [
    "### 4.1 Text Cleaning\n",
    "\n",
    "The dataset contains punctuations and numbers. Words also exist in different cases which models might translate different. Hence, the proceeding function performs cleaning by:\n",
    "- Remove punctuations\n",
    "- Change  Case to lower case"
   ]
  },
  {
   "cell_type": "code",
   "execution_count": 78,
   "id": "1ef4a92d",
   "metadata": {},
   "outputs": [],
   "source": [
    "def clean_data(text):\n",
    "    # change the case of all the words in the text to lowercase \n",
    "    text = text.lower()\n",
    "    \n",
    "    # remove punctuation\n",
    "    text = \"\".join([x for x in text if x not in string.punctuation])\n",
    "    \n",
    "    # remove numbers\n",
    "    text = re.sub(r'\\d+', '', text)\n",
    "    \n",
    "    return text"
   ]
  },
  {
   "cell_type": "code",
   "execution_count": 80,
   "id": "b1a76a33",
   "metadata": {},
   "outputs": [
    {
     "data": {
      "text/html": [
       "<div>\n",
       "<style scoped>\n",
       "    .dataframe tbody tr th:only-of-type {\n",
       "        vertical-align: middle;\n",
       "    }\n",
       "\n",
       "    .dataframe tbody tr th {\n",
       "        vertical-align: top;\n",
       "    }\n",
       "\n",
       "    .dataframe thead th {\n",
       "        text-align: right;\n",
       "    }\n",
       "</style>\n",
       "<table border=\"1\" class=\"dataframe\">\n",
       "  <thead>\n",
       "    <tr style=\"text-align: right;\">\n",
       "      <th></th>\n",
       "      <th>lang_id</th>\n",
       "      <th>text</th>\n",
       "    </tr>\n",
       "  </thead>\n",
       "  <tbody>\n",
       "    <tr>\n",
       "      <th>0</th>\n",
       "      <td>xho</td>\n",
       "      <td>umgaqosiseko wenza amalungiselelo kumaziko axh...</td>\n",
       "    </tr>\n",
       "    <tr>\n",
       "      <th>1</th>\n",
       "      <td>xho</td>\n",
       "      <td>idha iya kuba nobulumko bokubeka umsebenzi nap...</td>\n",
       "    </tr>\n",
       "    <tr>\n",
       "      <th>2</th>\n",
       "      <td>eng</td>\n",
       "      <td>the province of kwazulunatal department of tra...</td>\n",
       "    </tr>\n",
       "    <tr>\n",
       "      <th>3</th>\n",
       "      <td>nso</td>\n",
       "      <td>o netefatša gore o ba file dilo ka moka tše le...</td>\n",
       "    </tr>\n",
       "    <tr>\n",
       "      <th>4</th>\n",
       "      <td>ven</td>\n",
       "      <td>khomishini ya ndinganyiso ya mbeu yo ewa maana...</td>\n",
       "    </tr>\n",
       "  </tbody>\n",
       "</table>\n",
       "</div>"
      ],
      "text/plain": [
       "  lang_id                                               text\n",
       "0     xho  umgaqosiseko wenza amalungiselelo kumaziko axh...\n",
       "1     xho  idha iya kuba nobulumko bokubeka umsebenzi nap...\n",
       "2     eng  the province of kwazulunatal department of tra...\n",
       "3     nso  o netefatša gore o ba file dilo ka moka tše le...\n",
       "4     ven  khomishini ya ndinganyiso ya mbeu yo ewa maana..."
      ]
     },
     "execution_count": 80,
     "metadata": {},
     "output_type": "execute_result"
    }
   ],
   "source": [
    "# Clean the train dataset\n",
    "df_train['text'] = df_train['text'].apply(clean_data)\n",
    "\n",
    "# Clean the test dataset\n",
    "df_test['text'] = df_test['text'].apply(clean_data)\n",
    "\n",
    "df_train.head()"
   ]
  },
  {
   "cell_type": "markdown",
   "id": "12bb89e9",
   "metadata": {},
   "source": [
    "### 4.2 Remove words which are not particular to a language"
   ]
  },
  {
   "cell_type": "code",
   "execution_count": 87,
   "id": "bb2d2642",
   "metadata": {},
   "outputs": [],
   "source": [
    "languages = df_train['lang_id'].unique()\n",
    "common_words = []\n",
    "for language in languages:\n",
    "    lang_words = set(create_bank_set(df_train, word=\"True\", category=language)[0])\n",
    "    all_words = set(create_bank_set(df_train[df_train['lang_id'] != language], word=\"True\")[0])\n",
    "    common_words.extend(lang_words.intersection(all_words))"
   ]
  },
  {
   "cell_type": "code",
   "execution_count": 92,
   "id": "59bf9a62",
   "metadata": {},
   "outputs": [],
   "source": [
    "def remove_common(row):\n",
    "    words = row.split(\" \")\n",
    "    words = [wordings for wordings in words if wordings not in common_words]\n",
    "    return \" \".join(words)"
   ]
  },
  {
   "cell_type": "code",
   "execution_count": null,
   "id": "bc3dae63",
   "metadata": {},
   "outputs": [],
   "source": [
    "df_train['text'] = df_train['text'].apply(remove_common)\n",
    "df_test['text'] = df_test['text'].apply(remove_common)"
   ]
  },
  {
   "cell_type": "code",
   "execution_count": null,
   "id": "2126e125",
   "metadata": {},
   "outputs": [],
   "source": [
    "words = create_bank_set(df_train, word=True)\n",
    "total_words = len(words[0])\n",
    "count_unique = len(words[0].unique())\n",
    "print(\"Total words: {} \\nDistinct words: {}\".format(total_words, count_unique))\n",
    "print(\"A word is repeated an average of: {} times\".format(total_words / count_unique))"
   ]
  },
  {
   "cell_type": "markdown",
   "id": "ddf44b6f",
   "metadata": {},
   "source": [
    "### 4.2 Split Dataset into Training and Validation set"
   ]
  },
  {
   "cell_type": "markdown",
   "id": "07086acd",
   "metadata": {},
   "source": [
    "To properly assess a model, we need to assess the model on data which it has not seen before. Hence, there is a need to split the training dataset into two different datasets; the training dataset - which will be used to train a model and the validation set - which will be used to measure the performance of the model. "
   ]
  },
  {
   "cell_type": "code",
   "execution_count": null,
   "id": "ef51e3b7",
   "metadata": {},
   "outputs": [],
   "source": [
    "train_x, validation_x, train_y, validation_y = train_test_split(train_data, \n",
    "                                                                df_train['sentiment'], \n",
    "                                                                test_size=0.2,  \n",
    "                                                                random_state=20)"
   ]
  },
  {
   "cell_type": "markdown",
   "id": "c8a7ef4b",
   "metadata": {},
   "source": [
    "## 5.0 Data Modeling and Evaluation"
   ]
  },
  {
   "cell_type": "markdown",
   "id": "ee84eca1",
   "metadata": {},
   "source": [
    "### 5.1 Feature Extraction (Vectorization)"
   ]
  },
  {
   "cell_type": "markdown",
   "id": "d02488a9",
   "metadata": {},
   "source": [
    "To create a model, there is a need to have a set of feature(s) and target. Most models only accept numerical values for feature sets. For this project, our feature is a string of words. Hence there is a need to create vectors of digits from these words. The process is called Vectorization.\n",
    "\n",
    "For this project we define a vectorizer with the following tuning\n",
    "- ngram_range = (4, 8)\n",
    "- max_df = 0.7\n",
    "- min_df = 3"
   ]
  },
  {
   "cell_type": "code",
   "execution_count": null,
   "id": "8e7124c7",
   "metadata": {},
   "outputs": [],
   "source": [
    "vectorizer = TfidfVectorizer(ngram_range=(1,3), \n",
    "                             analyzer='char', \n",
    "                             min_df=3, \n",
    "                             max_df = 0.7)"
   ]
  },
  {
   "cell_type": "markdown",
   "id": "4d64d338",
   "metadata": {},
   "source": [
    "### 5.2 Modeling Function"
   ]
  },
  {
   "cell_type": "code",
   "execution_count": null,
   "id": "152c584e",
   "metadata": {},
   "outputs": [],
   "source": [
    "def create_model(vectorizer, model, x_train, y_train) \n",
    "    model = pipeline.Pipeline([\n",
    "        ('vectorizer', vectorizer),\n",
    "        ('clf', model())\n",
    "    ])\n",
    "    return model.fit(x_train,y_train)"
   ]
  },
  {
   "cell_type": "code",
   "execution_count": null,
   "id": "b90faa39",
   "metadata": {},
   "outputs": [],
   "source": [
    "def evaluate(model, x_test, y_test):\n",
    "    y_pred = model.predict(x_test)\n",
    "    print(classification_report(y_test,y_pred))"
   ]
  },
  {
   "cell_type": "markdown",
   "id": "cb6ae438",
   "metadata": {},
   "source": [
    "### 5.3  Training and Evaluating Models"
   ]
  },
  {
   "cell_type": "markdown",
   "id": "d75a9f42",
   "metadata": {},
   "source": [
    "#### Logistic Regressor"
   ]
  },
  {
   "cell_type": "code",
   "execution_count": null,
   "id": "196a7e39",
   "metadata": {},
   "outputs": [],
   "source": [
    "lgr_model = create_model(vectorizer, LogisticRegressor, x_train, y_train)\n",
    "evaluate(lgr_model, x_test, y_test)"
   ]
  },
  {
   "cell_type": "markdown",
   "id": "a8bc1ad4",
   "metadata": {},
   "source": [
    "#### Ridge Regressor"
   ]
  },
  {
   "cell_type": "code",
   "execution_count": null,
   "id": "c08d58dd",
   "metadata": {},
   "outputs": [],
   "source": [
    "ridge_model = create_model(vectorizer, RidgeClassifier, x_train, y_train)\n",
    "evaluate(ridge_model, x_test, y_test)"
   ]
  },
  {
   "cell_type": "markdown",
   "id": "bc0468fa",
   "metadata": {},
   "source": [
    "#### Stochastic Gradient Descent  Classifier (SGD-Classifier)"
   ]
  },
  {
   "cell_type": "code",
   "execution_count": null,
   "id": "408d8301",
   "metadata": {},
   "outputs": [],
   "source": [
    "sgdc_model = create_model(vectorizer, SGDClassifier, x_train, y_train)\n",
    "evaluate(sgdc_model, x_test, y_test)"
   ]
  },
  {
   "cell_type": "markdown",
   "id": "f6ed1188",
   "metadata": {},
   "source": [
    "#### K Nearest Neighbour"
   ]
  },
  {
   "cell_type": "code",
   "execution_count": null,
   "id": "c04cd4c4",
   "metadata": {},
   "outputs": [],
   "source": [
    "knn_model = create_model(vectorizer, KNeighborsClassifier, x_train, y_train)\n",
    "evaluate(knn_model, x_test, y_test)"
   ]
  },
  {
   "cell_type": "code",
   "execution_count": null,
   "id": "14e1c047",
   "metadata": {},
   "outputs": [],
   "source": []
  }
 ],
 "metadata": {
  "kernelspec": {
   "display_name": "Python 3 (ipykernel)",
   "language": "python",
   "name": "python3"
  },
  "language_info": {
   "codemirror_mode": {
    "name": "ipython",
    "version": 3
   },
   "file_extension": ".py",
   "mimetype": "text/x-python",
   "name": "python",
   "nbconvert_exporter": "python",
   "pygments_lexer": "ipython3",
   "version": "3.9.10"
  }
 },
 "nbformat": 4,
 "nbformat_minor": 5
}
